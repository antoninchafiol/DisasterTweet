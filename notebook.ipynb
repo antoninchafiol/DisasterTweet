{
 "cells": [
  {
   "cell_type": "code",
   "execution_count": 1,
   "metadata": {},
   "outputs": [],
   "source": [
    "import torch\n",
    "import torch.optim as optim\n",
    "from torch.utils.data import DataLoader\n",
    "from torchmetrics import F1Score\n",
    "\n",
    "import pandas as pd\n",
    "import numpy as np\n",
    "import re\n",
    "\n",
    "from torch.utils.data import random_split\n",
    "\n",
    "from textfn import *\n",
    "from classes import *\n",
    "\n",
    "\n",
    "%load_ext autoreload\n",
    "%autoreload 2"
   ]
  },
  {
   "cell_type": "code",
   "execution_count": 2,
   "metadata": {},
   "outputs": [],
   "source": [
    "df = pd.read_csv('dataset/train_processed.csv')\n",
    "df['text'] = df['text'].apply(lambda x: re.sub(r'\\'|\\[|\\]|\\s', '', x).split(','))"
   ]
  },
  {
   "cell_type": "code",
   "execution_count": 68,
   "metadata": {},
   "outputs": [],
   "source": [
    "params = {\n",
    "    # Global\n",
    "    'num_epochs': 1000,\n",
    "    'batch_size': 32, \n",
    "    'device': torch.device(\"cuda:0\" if torch.cuda.is_available() else \"cpu\") ,\n",
    "    'split_seed': 42,\n",
    "    'train_dev_split': 0.65,\n",
    "    # Vocabulary \n",
    "    'vocab_size': 50000, \n",
    "    'embedding_dim': 50,\n",
    "    'max_seq_length': 20,\n",
    "    # Model\n",
    "    'hidden_dim':256,\n",
    "    'output_dim':1,\n",
    "    # Optimizer\n",
    "    'optim_lr': 0.01, \n",
    "}"
   ]
  },
  {
   "cell_type": "markdown",
   "metadata": {},
   "source": [
    "Need to select the vocab either:\n",
    "\n",
    "- From glove, by loading via looping into it\n",
    "- From training dataset by number and usage of words or other metrics (to select a defined nuber of words to translate) "
   ]
  },
  {
   "cell_type": "code",
   "execution_count": 104,
   "metadata": {},
   "outputs": [
    {
     "name": "stdout",
     "output_type": "stream",
     "text": [
      "[I] - Vocab size given is too high, scalling down from 11798 to 11796\n"
     ]
    }
   ],
   "source": [
    "def load_vocab(vocab_size, df, glove_path, embedding_dim, load_type='1'):\n",
    "    embeddings = {}\n",
    "    word_to_index = {}\n",
    "    if load_type=='1':\n",
    "        # Create the best used words in the dataset\n",
    "        count_vocab = {'word': [], 'count': []}\n",
    "        for sentence in df['text']:\n",
    "            for word in sentence:\n",
    "                if word in count_vocab['word']:\n",
    "                    idx = count_vocab['word'].index(word)\n",
    "                    count_vocab['count'][idx] += 1 \n",
    "                else:\n",
    "                    count_vocab['word'].append(word)\n",
    "                    count_vocab['count'].append(1)\n",
    "        if len(count_vocab['word']) <= vocab_size:\n",
    "            print('[I] - Vocab size given is too high, scalling down from {} to {}'.format(vocab_size, len(count_vocab['word'])))\n",
    "            vocab_size = len(count_vocab['word'])\n",
    "        count_vocab = pd.DataFrame(count_vocab).sort_values(by='count', ascending=False).head(vocab_size)['word'].tolist()\n",
    "        \n",
    "        # Load Glove\n",
    "        embeddings = np.zeros((vocab_size+2, embedding_dim))\n",
    "        word_to_index = {}\n",
    "        index=0\n",
    "        with open(glove_path, \"r\", encoding=\"utf-8\") as f:\n",
    "            for line in f:\n",
    "                if index >= vocab_size-2:\n",
    "                    break\n",
    "                values = line.split()\n",
    "                word = values[0]\n",
    "                vector = np.asarray(values[1:], dtype=\"float16\")\n",
    "                if word in count_vocab:\n",
    "                    embeddings[index] = vector\n",
    "                    word_to_index[word] = index\n",
    "                index +=1 \n",
    "            f.close()\n",
    "\n",
    "        embeddings[index+1] = np.zeros(embedding_dim)\n",
    "        embeddings[index+2] = np.zeros(embedding_dim)\n",
    "        word_to_index['<unk>'] = index+1\n",
    "        word_to_index['<pad>'] = index+2\n",
    "\n",
    "    elif load_type=='2':\n",
    "        embeddings = np.zeros((vocab_size+2, embedding_dim))\n",
    "        word_to_index = {}\n",
    "        index=0\n",
    "        with open(glove_path, \"r\", encoding=\"utf-8\") as f:\n",
    "            for line in f:\n",
    "                if index >= vocab_size-2:\n",
    "                    break\n",
    "                values = line.split()\n",
    "                word = values[0]\n",
    "                vector = np.asarray(values[1:], dtype=\"float16\")\n",
    "                embeddings[index] = vector\n",
    "                word_to_index[word] = index\n",
    "                index +=1 \n",
    "            f.close()\n",
    "        embeddings[index+1] = np.zeros(embedding_dim)\n",
    "        embeddings[index+2] = np.zeros(embedding_dim)\n",
    "        word_to_index['<unk>'] = index+1\n",
    "        word_to_index['<pad>'] = index+2\n",
    "        \n",
    "\n",
    "\n",
    "    return vocab_size+2, torch.tensor(embeddings), word_to_index\n",
    "\n",
    "params['vocab_size'], vocab, word_to_index = load_vocab(params['vocab_size'], df, \n",
    "                                'glove_pretrained/glove.6B.{}d.txt'.format(params[\"embedding_dim\"]), \n",
    "                                params[\"embedding_dim\"], '1')"
   ]
  },
  {
   "cell_type": "markdown",
   "metadata": {},
   "source": [
    "Need to get the vocab size from dataframe and to match with corresponding vector or UKN/PAD tokens \n"
   ]
  },
  {
   "cell_type": "code",
   "execution_count": 105,
   "metadata": {},
   "outputs": [],
   "source": [
    "train_data = CdatasetGlove(df, params['max_seq_length'], word_to_index, train=True)"
   ]
  },
  {
   "cell_type": "code",
   "execution_count": 106,
   "metadata": {},
   "outputs": [],
   "source": [
    "train_data, dev_data = random_split(train_data, [params['train_dev_split'],1-params['train_dev_split']], generator=torch.Generator().manual_seed(params['split_seed']))"
   ]
  },
  {
   "cell_type": "code",
   "execution_count": 107,
   "metadata": {},
   "outputs": [],
   "source": [
    "train_loader = DataLoader(train_data, batch_size=params['batch_size'], shuffle=True)\n",
    "dev_loader = DataLoader(dev_data, batch_size=params['batch_size'], shuffle=False)"
   ]
  },
  {
   "cell_type": "code",
   "execution_count": 108,
   "metadata": {},
   "outputs": [],
   "source": [
    "model = SimpleLSTMGloVe(params, vocab).to(params['device'])\n",
    "model_params = {\n",
    "    'optimizer': torch.optim.Adam(model.parameters(), lr=params['optim_lr']), \n",
    "    'loss_fn'  : torch.nn.BCELoss(),\n",
    "    'metric'   : F1Score(task='binary').to(params['device'])\n",
    "}"
   ]
  },
  {
   "cell_type": "code",
   "execution_count": 113,
   "metadata": {},
   "outputs": [
    {
     "name": "stdout",
     "output_type": "stream",
     "text": [
      "Starting training\n",
      "Ending training\n"
     ]
    }
   ],
   "source": [
    "def train(model, loader, params, model_params, device):\n",
    "    accs = []\n",
    "    losses = []\n",
    "    model.train()\n",
    "    print(\"Starting training\")\n",
    "    for e in range(params['num_epochs']):\n",
    "        epoch_acc = 0.0\n",
    "        epoch_loss= 0.0\n",
    "\n",
    "        for X,Y in loader:\n",
    "            model_params['optimizer'].zero_grad()\n",
    "            X = X.to(params['device'])\n",
    "            Y = Y.to(params['device'])\n",
    "            # Y = Y.type(torch.FloatTensor)\n",
    "\n",
    "            with torch.set_grad_enabled(True):\n",
    "                Yhat = model(X)\n",
    "                loss = model_params['loss_fn'](Yhat, Y)\n",
    "                loss.backward()\n",
    "                model_params['optimizer'].step()\n",
    "            epoch_loss+= loss.item()\n",
    "            epoch_acc += model_params['metric'](Yhat, Y)\n",
    "            \n",
    "        epoch_acc = epoch_acc/len(loader)\n",
    "        epoch_loss = epoch_loss/len(loader)\n",
    "        accs.append(epoch_acc)\n",
    "        losses.append(epoch_loss)\n",
    "    print(\"Ending training\")\n",
    "    return model, accs, losses\n",
    "model, acc, loss = train(model, train_loader, params, model_params, device)"
   ]
  },
  {
   "cell_type": "code",
   "execution_count": 114,
   "metadata": {},
   "outputs": [
    {
     "name": "stdout",
     "output_type": "stream",
     "text": [
      "tensor(0.9704)\n"
     ]
    }
   ],
   "source": [
    "print(torch.max(torch.tensor(acc)))"
   ]
  },
  {
   "cell_type": "code",
   "execution_count": null,
   "metadata": {},
   "outputs": [],
   "source": []
  }
 ],
 "metadata": {
  "kernelspec": {
   "display_name": "tgpu",
   "language": "python",
   "name": "python3"
  },
  "language_info": {
   "codemirror_mode": {
    "name": "ipython",
    "version": 3
   },
   "file_extension": ".py",
   "mimetype": "text/x-python",
   "name": "python",
   "nbconvert_exporter": "python",
   "pygments_lexer": "ipython3",
   "version": "3.11.4"
  },
  "orig_nbformat": 4
 },
 "nbformat": 4,
 "nbformat_minor": 2
}
