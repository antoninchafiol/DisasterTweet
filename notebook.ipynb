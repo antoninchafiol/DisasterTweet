{
 "cells": [
  {
   "cell_type": "code",
   "execution_count": 68,
   "metadata": {},
   "outputs": [
    {
     "name": "stdout",
     "output_type": "stream",
     "text": [
      "The autoreload extension is already loaded. To reload it, use:\n",
      "  %reload_ext autoreload\n"
     ]
    }
   ],
   "source": [
    "import torch\n",
    "import torch.optim as optim\n",
    "from torch.utils.data import DataLoader\n",
    "from torchmetrics import F1Score\n",
    "\n",
    "import pandas as pd\n",
    "import numpy as np\n",
    "import re\n",
    "\n",
    "from torch.utils.data import random_split\n",
    "\n",
    "from textfn import *\n",
    "from classes import *\n",
    "\n",
    "\n",
    "%load_ext autoreload\n",
    "%autoreload 2"
   ]
  },
  {
   "cell_type": "code",
   "execution_count": 22,
   "metadata": {},
   "outputs": [],
   "source": [
    "df = pd.read_csv('dataset/train_processed.csv')\n",
    "df['text'] = df['text'].apply(lambda x: re.sub(r'\\'|\\[|\\]|\\s', '', x).split(','))"
   ]
  },
  {
   "cell_type": "code",
   "execution_count": 63,
   "metadata": {},
   "outputs": [],
   "source": [
    "params = {\n",
    "    'vocab_size': 50000,\n",
    "    'embedding_dim': 50, \n",
    "    'max_seq_length': 35\n",
    "}\n",
    "\n",
    "params = {\n",
    "    # Global\n",
    "    'num_epochs': 100,\n",
    "    'batch_size': 32, \n",
    "    'device': torch.device(\"cuda:0\" if torch.cuda.is_available() else \"cpu\"),\n",
    "    'split_seed': 42,\n",
    "    'train_dev_split': 0.65,\n",
    "    # Vocabulary \n",
    "    'vocab_size': 50000, \n",
    "    'embedding_dim': 50,\n",
    "    'max_seq_length': 20,\n",
    "    # Model\n",
    "    'hidden_dim':256,\n",
    "    'output_dim':1,\n",
    "    # Optimizer\n",
    "    'optim_lr': 0.01, \n",
    "}"
   ]
  },
  {
   "cell_type": "markdown",
   "metadata": {},
   "source": [
    "Need to select the vocab either:\n",
    "\n",
    "- From glove, by loading via looping into it\n",
    "- From training dataset by number and usage of words or other metrics (to select a defined nuber of words to translate) "
   ]
  },
  {
   "cell_type": "code",
   "execution_count": 66,
   "metadata": {},
   "outputs": [],
   "source": [
    "def load_vocab(vocab_size, df, glove_path, embedding_dim, load_type='1'):\n",
    "    embeddings = {}\n",
    "    word_to_index = {}\n",
    "    if load_type=='1':\n",
    "        # Create the best used words in the dataset\n",
    "        count_vocab = {'word': [], 'count': []}\n",
    "        for sentence in df['text']:\n",
    "            for word in sentence:\n",
    "                if word in count_vocab['word']:\n",
    "                    idx = count_vocab['word'].index(word)\n",
    "                    count_vocab['count'][idx] += 1 \n",
    "                else:\n",
    "                    count_vocab['word'].append(word)\n",
    "                    count_vocab['count'].append(1)\n",
    "        if len(count_vocab['word']) <= vocab_size:\n",
    "            print('[I] - Vocab size given is too high, scalling down from {} to {}'.format(vocab_size, len(count_vocab['word'])))\n",
    "            vocab_size = len(count_vocab['word'])\n",
    "        count_vocab = pd.DataFrame(count_vocab).sort_values(by='count', ascending=False).head(vocab_size)['word'].tolist()\n",
    "        \n",
    "        # Load Glove\n",
    "        embeddings = np.zeros((vocab_size, embedding_dim))\n",
    "        word_to_index = {}\n",
    "        index=0\n",
    "        with open(glove_path, \"r\", encoding=\"utf-8\") as f:\n",
    "            for line in f:\n",
    "                if index >= vocab_size:\n",
    "                    break\n",
    "                values = line.split()\n",
    "                word = values[0]\n",
    "                vector = np.asarray(values[1:], dtype=\"float16\")\n",
    "                if word in count_vocab:\n",
    "                    embeddings[index] = vector\n",
    "                    word_to_index[word] = index\n",
    "                index +=1 \n",
    " \n",
    "    elif load_type=='2':\n",
    "        embeddings = np.zeros((vocab_size, embedding_dim))\n",
    "        word_to_index = {}\n",
    "        index=0\n",
    "        with open(glove_path, \"r\", encoding=\"utf-8\") as f:\n",
    "            for line in f:\n",
    "                if index >= vocab_size:\n",
    "                    break\n",
    "                values = line.split()\n",
    "                word = values[0]\n",
    "                vector = np.asarray(values[1:], dtype=\"float16\")\n",
    "                embeddings[index] = vector\n",
    "                word_to_index[word] = index\n",
    "                index +=1 \n",
    "\n",
    "    return vocab_size, torch.tensor(embeddings), word_to_index\n",
    "\n",
    "vocab_size, vocab, word_to_index = load_vocab(params['vocab_size'], df, \n",
    "                                'glove_pretrained/glove.6B.{}d.txt'.format(params[\"embedding_dim\"]), \n",
    "                                params[\"embedding_dim\"], '2')"
   ]
  },
  {
   "cell_type": "markdown",
   "metadata": {},
   "source": [
    "Need to get the vocab size from dataframe and to match with corresponding vector or UKN/PAD tokens \n"
   ]
  },
  {
   "cell_type": "code",
   "execution_count": 82,
   "metadata": {},
   "outputs": [],
   "source": [
    "train_data = CdatasetGlove(df, params['max_seq_length'], train=True)"
   ]
  },
  {
   "cell_type": "code",
   "execution_count": 83,
   "metadata": {},
   "outputs": [],
   "source": [
    "train_data, dev_data = random_split(train_data, [params['train_dev_split'],1-params['train_dev_split']], generator=torch.Generator().manual_seed(params['split_seed']))"
   ]
  },
  {
   "cell_type": "code",
   "execution_count": 84,
   "metadata": {},
   "outputs": [],
   "source": [
    "train_loader = DataLoader(train_data, batch_size=params['batch_size'], shuffle=True)\n",
    "dev_loader = DataLoader(dev_data, batch_size=params['batch_size'], shuffle=False)"
   ]
  },
  {
   "cell_type": "code",
   "execution_count": 87,
   "metadata": {},
   "outputs": [
    {
     "name": "stderr",
     "output_type": "stream",
     "text": [
      "[autoreload of classes failed: Traceback (most recent call last):\n",
      "  File \"c:\\Users\\Shadow\\anaconda3\\envs\\tgpu\\Lib\\site-packages\\IPython\\extensions\\autoreload.py\", line 276, in check\n",
      "    superreload(m, reload, self.old_objects)\n",
      "  File \"c:\\Users\\Shadow\\anaconda3\\envs\\tgpu\\Lib\\site-packages\\IPython\\extensions\\autoreload.py\", line 500, in superreload\n",
      "    update_generic(old_obj, new_obj)\n",
      "  File \"c:\\Users\\Shadow\\anaconda3\\envs\\tgpu\\Lib\\site-packages\\IPython\\extensions\\autoreload.py\", line 397, in update_generic\n",
      "    update(a, b)\n",
      "  File \"c:\\Users\\Shadow\\anaconda3\\envs\\tgpu\\Lib\\site-packages\\IPython\\extensions\\autoreload.py\", line 365, in update_class\n",
      "    update_instances(old, new)\n",
      "  File \"c:\\Users\\Shadow\\anaconda3\\envs\\tgpu\\Lib\\site-packages\\IPython\\extensions\\autoreload.py\", line 323, in update_instances\n",
      "    object.__setattr__(ref, \"__class__\", new)\n",
      "TypeError: __class__ assignment: 'CdatasetGlove' object layout differs from 'CdatasetGlove'\n",
      "]\n"
     ]
    },
    {
     "ename": "NameError",
     "evalue": "name 'SimpleLSTMGloVe' is not defined",
     "output_type": "error",
     "traceback": [
      "\u001b[1;31m---------------------------------------------------------------------------\u001b[0m",
      "\u001b[1;31mNameError\u001b[0m                                 Traceback (most recent call last)",
      "Cell \u001b[1;32mIn[87], line 1\u001b[0m\n\u001b[1;32m----> 1\u001b[0m model \u001b[39m=\u001b[39m SimpleLSTMGloVe(params, vocab)\n\u001b[0;32m      2\u001b[0m model_params \u001b[39m=\u001b[39m {\n\u001b[0;32m      3\u001b[0m     \u001b[39m'\u001b[39m\u001b[39moptimizer\u001b[39m\u001b[39m'\u001b[39m: torch\u001b[39m.\u001b[39moptim\u001b[39m.\u001b[39mAdam(model\u001b[39m.\u001b[39mparameters(), lr\u001b[39m=\u001b[39mparams[\u001b[39m'\u001b[39m\u001b[39moptim_lr\u001b[39m\u001b[39m'\u001b[39m]), \n\u001b[0;32m      4\u001b[0m     \u001b[39m'\u001b[39m\u001b[39mloss_fn\u001b[39m\u001b[39m'\u001b[39m  : torch\u001b[39m.\u001b[39mnn\u001b[39m.\u001b[39mBCELoss(),\n\u001b[0;32m      5\u001b[0m     \u001b[39m'\u001b[39m\u001b[39mmetric\u001b[39m\u001b[39m'\u001b[39m   : F1Score(task\u001b[39m=\u001b[39m\u001b[39m'\u001b[39m\u001b[39mbinary\u001b[39m\u001b[39m'\u001b[39m)\u001b[39m.\u001b[39mto(params[\u001b[39m'\u001b[39m\u001b[39mdevice\u001b[39m\u001b[39m'\u001b[39m])\n\u001b[0;32m      6\u001b[0m }\n",
      "\u001b[1;31mNameError\u001b[0m: name 'SimpleLSTMGloVe' is not defined"
     ]
    }
   ],
   "source": [
    "model = SimpleLSTMGloVe(params, vocab)\n",
    "model_params = {\n",
    "    'optimizer': torch.optim.Adam(model.parameters(), lr=params['optim_lr']), \n",
    "    'loss_fn'  : torch.nn.BCELoss(),\n",
    "    'metric'   : F1Score(task='binary').to(params['device'])\n",
    "}"
   ]
  },
  {
   "cell_type": "code",
   "execution_count": null,
   "metadata": {},
   "outputs": [],
   "source": [
    "def train(model, loader, params, model_params):\n",
    "    accs = []\n",
    "    losses = []\n",
    "    for params['num_epochs']:\n",
    "        model.train()\n",
    "        epoch_acc = 0\n",
    "        epoch_loss= 0\n",
    "\n",
    "        for X,Y in loader:\n",
    "            model_params['optimizer'].zero_grad()\n",
    "            X = X.to(params['device'])\n",
    "            Y = Y.to(params['device'])\n",
    "\n",
    "            with torch.set_grad_enabled(True):\n",
    "                Yhat = model(X)\n",
    "                loss = model_params['loss_fn'](Yhat, Y)\n",
    "                loss.backward()\n",
    "                model_params['optimizer'].step()\n",
    "            epoch_loss+= loss.item()\n",
    "            epoch_acc += model_params['metric'](Yhat, Y)\n",
    "            \n",
    "        epoch_acc = epoch_acc/len(loader)\n",
    "        epoch_loss = epoch_loss/len(loader)\n",
    "        accs.append(epoch_acc)\n",
    "        losses.append(epoch_loss)\n",
    "    return model, accs, losses\n"
   ]
  }
 ],
 "metadata": {
  "kernelspec": {
   "display_name": "tgpu",
   "language": "python",
   "name": "python3"
  },
  "language_info": {
   "codemirror_mode": {
    "name": "ipython",
    "version": 3
   },
   "file_extension": ".py",
   "mimetype": "text/x-python",
   "name": "python",
   "nbconvert_exporter": "python",
   "pygments_lexer": "ipython3",
   "version": "3.11.4"
  },
  "orig_nbformat": 4
 },
 "nbformat": 4,
 "nbformat_minor": 2
}
