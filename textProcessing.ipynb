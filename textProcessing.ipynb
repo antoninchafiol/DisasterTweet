{
 "cells": [
  {
   "cell_type": "markdown",
   "metadata": {},
   "source": [
    "This file is to make a revamped and easier data input\n",
    "\n",
    "For this, I'll base all on the train, and not make a train/test merge file."
   ]
  },
  {
   "cell_type": "code",
   "execution_count": 1,
   "metadata": {},
   "outputs": [],
   "source": [
    "import pandas as pd\n",
    "import numpy as np\n",
    "\n",
    "from torchtext.data import get_tokenizer\n",
    "\n",
    "from textfn import *\n",
    "from classes import *\n",
    "\n",
    "%load_ext autoreload\n",
    "%autoreload 2"
   ]
  },
  {
   "cell_type": "code",
   "execution_count": 10,
   "metadata": {},
   "outputs": [],
   "source": [
    "df = pd.read_csv('dataset/train.csv')"
   ]
  },
  {
   "cell_type": "markdown",
   "metadata": {},
   "source": [
    "For a shorter version, I'll \"reduce\" the data to only the text and target. "
   ]
  },
  {
   "cell_type": "code",
   "execution_count": 11,
   "metadata": {},
   "outputs": [],
   "source": [
    "df = df.drop(columns=['keyword', 'location'])"
   ]
  },
  {
   "cell_type": "code",
   "execution_count": 12,
   "metadata": {},
   "outputs": [],
   "source": [
    "df['text_changed'] = df['text']\n",
    "df['text_changed'] = df['text_changed'].apply(r_upper)\n",
    "df['text_changed'] = df['text_changed'].apply(r_hashtagsAt)\n",
    "# URLs\n",
    "df['text_changed'] = df['text_changed'].apply(r_url)\n",
    "# Punctuation & special Chars\n",
    "df['text_changed'] = df['text_changed'].apply(r_specialChar)\n",
    "df['text_changed'] = df['text_changed'].apply(entity_ref)\n",
    "df['text_changed'] = df['text_changed'].apply(r_punctuation)\n",
    "# Lowercasing\n",
    "# Expand contractions\n",
    "df['text_changed'] = df['text_changed'].apply(expand_contractions)\n",
    "# Numbers\n",
    "df['text_changed'] = df['text_changed'].apply(r_number)\n",
    "# Stopword cleaning\n",
    "tokenizer = get_tokenizer(\"basic_english\")\n",
    "df['text_changed'] = df['text_changed'].apply(tokenizer)\n",
    "df['text_changed'] = df['text_changed'].apply(r_stopwords)\n",
    "# # Stemming and/or Lemmatization\n",
    "# # --- Lemmatization\n",
    "df['text_changed'] = df['text_changed'].apply(lemmatization)\n",
    "df['text'] = df['text_changed']\n",
    "df = df.drop(columns='text_changed')"
   ]
  },
  {
   "cell_type": "code",
   "execution_count": 15,
   "metadata": {},
   "outputs": [
    {
     "name": "stdout",
     "output_type": "stream",
     "text": [
      "<class 'pandas.core.frame.DataFrame'>\n",
      "RangeIndex: 7613 entries, 0 to 7612\n",
      "Data columns (total 3 columns):\n",
      " #   Column  Non-Null Count  Dtype \n",
      "---  ------  --------------  ----- \n",
      " 0   id      7613 non-null   int64 \n",
      " 1   text    7613 non-null   object\n",
      " 2   target  7613 non-null   int64 \n",
      "dtypes: int64(2), object(1)\n",
      "memory usage: 178.6+ KB\n"
     ]
    }
   ],
   "source": [
    "df.info()"
   ]
  },
  {
   "cell_type": "code",
   "execution_count": 17,
   "metadata": {},
   "outputs": [],
   "source": [
    "df.to_csv('dataset/train_processed.csv')"
   ]
  },
  {
   "cell_type": "code",
   "execution_count": null,
   "metadata": {},
   "outputs": [],
   "source": []
  }
 ],
 "metadata": {
  "kernelspec": {
   "display_name": "tgpu",
   "language": "python",
   "name": "python3"
  },
  "language_info": {
   "codemirror_mode": {
    "name": "ipython",
    "version": 3
   },
   "file_extension": ".py",
   "mimetype": "text/x-python",
   "name": "python",
   "nbconvert_exporter": "python",
   "pygments_lexer": "ipython3",
   "version": "3.11.4"
  },
  "orig_nbformat": 4
 },
 "nbformat": 4,
 "nbformat_minor": 2
}
