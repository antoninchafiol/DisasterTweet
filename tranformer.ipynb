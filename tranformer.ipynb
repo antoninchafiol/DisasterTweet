{
 "cells": [
  {
   "cell_type": "markdown",
   "metadata": {},
   "source": [
    "# Explanation\n",
    "\n",
    "This notebook is used to test the classes used and implemented in the transformer_classes.py file\n",
    "\n",
    "Remember:\n",
    "We need to implement the following (found in \"Attention is all you need\" paper available at https://arxiv.org/pdf/1706.03762.pdf):\n",
    "\n",
    "- Transformer Architecture\n",
    "- Scalled Dot Product\n",
    "- Multi-Head Attention\n",
    "\n",
    "And all other things required like positionnal encoding\n"
   ]
  },
  {
   "cell_type": "markdown",
   "metadata": {},
   "source": [
    "## I. Load glove and build vocab\n",
    "\n",
    "First we'll load and setup glove and our vocab to get the first \"brick\" for embedding\n",
    "\n",
    "For this test I'll load all glove pretrained weight and build the vocab\n",
    "\n",
    "#### 1st Version\n",
    "\n",
    "Using the same data cleaning method as the one in the main branch which let lots of unknown words"
   ]
  },
  {
   "cell_type": "code",
   "execution_count": 1,
   "metadata": {},
   "outputs": [],
   "source": [
    "# Main/global imports\n",
    "import torch\n",
    "import numpy as np\n",
    "import pandas as pd\n",
    "\n",
    "from textfn import *\n",
    "from classes import *\n",
    "from tranformer_classes import *\n",
    "\n",
    "%load_ext autoreload\n",
    "%autoreload 2"
   ]
  },
  {
   "cell_type": "code",
   "execution_count": 52,
   "metadata": {},
   "outputs": [],
   "source": [
    "df = loadDts('dataset/train_processed.csv')"
   ]
  },
  {
   "cell_type": "code",
   "execution_count": 54,
   "metadata": {},
   "outputs": [],
   "source": [
    "embedding_dim = 50\n",
    "glove_path = 'glove_pretrained/glove.6B.{}d.txt'.format(embedding_dim)\n",
    "vocab_size = 10000\n",
    "\n",
    "embeddings = np.zeros((vocab_size+2, embedding_dim))\n",
    "word_to_index = {}\n",
    "index=0\n",
    "with open(glove_path, \"r\", encoding=\"utf-8\") as f:\n",
    "    for line in f:\n",
    "        if index >= vocab_size-2:\n",
    "            break\n",
    "        values = line.split()\n",
    "        word = values[0]\n",
    "        vector = np.asarray(values[1:], dtype=\"float16\")\n",
    "        embeddings[index] = vector\n",
    "        word_to_index[word] = index\n",
    "        index +=1 \n",
    "    f.close()\n",
    "embeddings[index+1] = np.zeros(embedding_dim)\n",
    "embeddings[index+2] = np.zeros(embedding_dim)\n",
    "word_to_index['<unk>'] = index+1\n",
    "word_to_index['<pad>'] = index+2\n",
    "vocab_size+=2"
   ]
  },
  {
   "cell_type": "markdown",
   "metadata": {},
   "source": []
  }
 ],
 "metadata": {
  "kernelspec": {
   "display_name": "tgpu",
   "language": "python",
   "name": "python3"
  },
  "language_info": {
   "codemirror_mode": {
    "name": "ipython",
    "version": 3
   },
   "file_extension": ".py",
   "mimetype": "text/x-python",
   "name": "python",
   "nbconvert_exporter": "python",
   "pygments_lexer": "ipython3",
   "version": "3.11.4"
  },
  "orig_nbformat": 4
 },
 "nbformat": 4,
 "nbformat_minor": 2
}
