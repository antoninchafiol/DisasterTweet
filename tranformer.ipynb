{
 "cells": [
  {
   "cell_type": "markdown",
   "metadata": {},
   "source": [
    "# Explanation\n",
    "\n",
    "This notebook is used to test the classes used and implemented in the transformer_classes.py file\n",
    "\n",
    "Remember:\n",
    "We need to implement the following (found in \"Attention is all you need\" paper available at https://arxiv.org/pdf/1706.03762.pdf):\n",
    "\n",
    "- Transformer Architecture\n",
    "- Scalled Dot Product\n",
    "- Multi-Head Attention\n",
    "\n",
    "And all other things required like positionnal encoding\n"
   ]
  },
  {
   "cell_type": "markdown",
   "metadata": {},
   "source": [
    "## I. Load glove and build vocab\n",
    "\n",
    "First we'll load and setup glove and our vocab to get the first \"brick\" for embedding\n",
    "\n",
    "For this test I'll load all glove pretrained weight and build the vocab\n",
    "\n",
    "#### 1st Version\n",
    "\n",
    "Using the same data cleaning method as the one in the main branch which let lots of unknown words"
   ]
  },
  {
   "cell_type": "markdown",
   "metadata": {},
   "source": []
  }
 ],
 "metadata": {
  "language_info": {
   "name": "python"
  },
  "orig_nbformat": 4
 },
 "nbformat": 4,
 "nbformat_minor": 2
}
